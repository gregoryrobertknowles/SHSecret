{
 "cells": [
  {
   "cell_type": "code",
   "execution_count": 1,
   "metadata": {},
   "outputs": [],
   "source": [
    "import pandas as pd\n",
    "\n",
    "# Read the data from the CSV file\n",
    "data = pd.read_csv('Aviation Quiz.csv')"
   ]
  },
  {
   "cell_type": "code",
   "execution_count": 3,
   "metadata": {},
   "outputs": [
    {
     "name": "stderr",
     "output_type": "stream",
     "text": [
      "/Users/gregknowles/Library/Python/3.9/lib/python/site-packages/urllib3/__init__.py:34: NotOpenSSLWarning: urllib3 v2.0 only supports OpenSSL 1.1.1+, currently the 'ssl' module is compiled with 'LibreSSL 2.8.3'. See: https://github.com/urllib3/urllib3/issues/3020\n",
      "  warnings.warn(\n"
     ]
    }
   ],
   "source": [
    "from langchain_community.document_loaders import PyPDFLoader\n",
    "\n",
    "loader = PyPDFLoader(\"atp_akts.pdf\") # FAA-CT-8080-7D manual\n",
    "pages = loader.load_and_split()"
   ]
  },
  {
   "cell_type": "code",
   "execution_count": 4,
   "metadata": {},
   "outputs": [
    {
     "name": "stderr",
     "output_type": "stream",
     "text": [
      "/Users/gregknowles/Library/Python/3.9/lib/python/site-packages/tqdm/auto.py:21: TqdmWarning: IProgress not found. Please update jupyter and ipywidgets. See https://ipywidgets.readthedocs.io/en/stable/user_install.html\n",
      "  from .autonotebook import tqdm as notebook_tqdm\n"
     ]
    }
   ],
   "source": [
    "from openai import OpenAI\n",
    "from langchain_community.vectorstores import Chroma\n",
    "from langchain_community.embeddings import HuggingFaceEmbeddings\n",
    "from langchain.text_splitter import CharacterTextSplitter\n",
    "from langchain_community.embeddings import HuggingFaceEmbeddings\n",
    "\n",
    "embeddings = HuggingFaceEmbeddings()\n",
    "\n",
    "text_splitter = CharacterTextSplitter(chunk_size=1000, chunk_overlap=10)\n",
    "\n",
    "chunked_documents = text_splitter.split_documents(pages)\n",
    "\n",
    "\n",
    "vectordb = Chroma.from_documents(\n",
    "        documents=chunked_documents,\n",
    "        embedding=embeddings,\n",
    "        \n",
    "    )"
   ]
  },
  {
   "cell_type": "code",
   "execution_count": 9,
   "metadata": {},
   "outputs": [],
   "source": [
    "from openai import OpenAI\n",
    "from langchain_community.vectorstores import Chroma\n",
    "from langchain_community.embeddings import HuggingFaceEmbeddings\n",
    "from langchain.text_splitter import CharacterTextSplitter\n",
    "from langchain_community.embeddings import HuggingFaceEmbeddings\n",
    "\n",
    "embeddings = HuggingFaceEmbeddings()\n",
    "\n",
    "# Step 1: Embed your query\n",
    "#query = \"What is the approximate level-off pressure altitude after drift-down under Operating Conditions D-3\"\n",
    "query = \"What is the approximate level-off pressure altitude after drift-down under Operating Conditions D-3\"\n",
    "query_embedding = embeddings.embed_query(query)\n",
    "\n",
    "docs = vectordb.similarity_search_with_score(query)\n",
    "\n",
    "\n",
    "\n",
    "\n",
    "\n"
   ]
  },
  {
   "cell_type": "code",
   "execution_count": 10,
   "metadata": {},
   "outputs": [
    {
     "name": "stdout",
     "output_type": "stream",
     "text": [
      "[(Document(page_content='2-300\\nAppendix 2\\nIllustrations and materials were used with permission from Cessna Aircraft Company.\\nAngle of Bank\\n60° 45° 30° 0°\\n KIAS KCAS  KIAS KCAS  KIAS KCAS  KIAS KCAS\\n89\\n82\\n75\\n6863\\n58\\n53\\n4878\\n69\\n63\\n6068\\n62\\n57\\n5284\\n74\\n68\\n6475\\n69\\n63\\n5793\\n82\\n75\\n71110\\n98\\n89\\n85Flap\\nSetting\\nUP\\n10°\\n20°\\nFULL\\nAngle of Bank\\n60° 45° 30° 0°\\n KIAS KCAS  KIAS KCAS  KIAS KCAS  KIAS KCAS\\n89\\n85\\n76\\n7163\\n60\\n54\\n5078\\n70\\n64\\n6168\\n64\\n58\\n5484\\n75\\n69\\n6675\\n71\\n64\\n5993\\n83\\n76\\n73110\\n99\\n91\\n86Flap\\nSetting\\nUP\\n10°\\n20°\\nFULLMOST FORWARD CENTER OF GRAVITYMOST REARWARD CENTER OF GRAVITYCONDITIONS: \\n8,750 Pounds\\nPower Lever IDLE\\nFUEL CONDITION Lever HIGH IDLE\\n        NOTE\\n1. Altitude loss during a stall recovery may be as much as 300 feet from a wings-level \\n stall, and even greater from a turning stall.\\n2.  KIAS values are approximate.\\nFigure 390.   CE-208—Stall Speeds.', metadata={'page': 391, 'source': 'atp_akts.pdf'}), 1.1009302139282227), (Document(page_content='2-340\\nAppendix 2\\nFOR TRAINING PURPOSES ONLY\\nIllustrations and materials were used with permission from Bombardier.\\nPRESSURE ALTITUDE (Feet)\\n(°C)\\n–45\\n–40\\n–35\\n–30\\n–25\\n–20\\n–15\\n–10\\n–5\\n0\\n5\\n10(°F)\\n–49\\n–40\\n–31\\n–22\\n–13\\n–4\\n5\\n14\\n23\\n32\\n41\\n50–1000\\n82.3\\n83.1\\n83.9\\n84.7\\n85.5\\n86.3\\n87.1\\n87.9\\n88.6\\n89.4\\n90.10\\n83.4\\n84.3\\n85.1\\n85.9\\n86.7\\n87.5\\n88.3\\n89.0\\n89.8\\n90.6\\n91.32000\\n84.1\\n84.9\\n85.8\\n86.6\\n87.4\\n88.2\\n89.0\\n89.7\\n90.5\\n91.3\\n92.04000\\n84.9\\n85.7\\n86.6\\n87.4\\n88.2\\n88.9\\n89.7\\n90.5\\n91.3\\n91.9\\n92.06000\\n85.8\\n86.6\\n87.4\\n88.2\\n89.0\\n89.8\\n90.6\\n91.4\\n91.7\\n91.8\\n91.58000\\n86.6\\n87.4\\n88.2\\n89.0\\n89.8\\n90.6\\n91.4\\n91.5\\n91.6\\n91.4\\n91.110000\\n87.2\\n88.0\\n88.8\\n89.6\\n90.4\\n91.1\\n91.2\\n91.4\\n91.5\\n91.4\\n91.012000\\n86.4\\n87.2\\n88.0\\n88.8\\n89.6\\n90.4\\n90.9\\n91.3\\n91.4\\n91.5\\n91.2\\n90.914000\\n86.5\\n87.3\\n88.2\\n89.0\\n89.8\\n90.6\\n91.0\\n91.3\\n91.4\\n91.5\\n91.2\\n89.916000\\n87.4\\n88.2\\n89.1\\n89.9\\n90.7\\n91.3\\n90.1\\n89.5\\n88.6\\n87.4\\n86.8\\n86.4OAT\\nFigure 430.   CRJ 900—Thrust Settings—Go Around or APR Thrust Setting (One Engine \\nInoperative), %N 1 Wing and Cowl Anti-ice On, PACK On—140 KIAS.', metadata={'page': 431, 'source': 'atp_akts.pdf'}), 1.12954843044281), (Document(page_content='2-338\\nAppendix 2\\nFOR TRAINING PURPOSES ONLY\\nIllustrations and materials were used with permission from Bombardier.\\nPRESSURE ALTITUDE (Feet)\\n(°C)\\n–45\\n–40\\n–35\\n–30\\n–25\\n–20\\n–15\\n–10\\n–5\\n0\\n5\\n10\\n15\\n20\\n25\\n30\\n35\\n40\\n45\\n50(°F)\\n–49\\n–40\\n–31\\n–22\\n–13\\n–4\\n5\\n14\\n23\\n32\\n41\\n50\\n59\\n68\\n77\\n86\\n95\\n104\\n113\\n122–1,000\\n80.0\\n80.8\\n81.6\\n82.4\\n83.2\\n84.0\\n84.7\\n85.5\\n86.3\\n87.0\\n87.8\\n88.5\\n89.2\\n90.0\\n90.7\\n90.4\\n89.3\\n88.1\\n86.80\\n81.1\\n81.9\\n82.7\\n83.5\\n84.3\\n85.1\\n85.9\\n86.7\\n87.4\\n88.2\\n88.9\\n89.7\\n90.4\\n91.2\\n91.9\\n90.9\\n89.8\\n88.6\\n87.32000\\n81.8\\n82.7\\n83.5\\n84.3\\n85.1\\n85.9\\n86.7\\n87.5\\n88.2\\n89.0\\n89.8\\n90.5\\n91.3\\n92.0\\n91.8\\n90.9\\n89.9\\n88.6\\n87.34000\\n82.8\\n83.6\\n84.4\\n85.2\\n86.0\\n86.8\\n87.6\\n88.4\\n89.2\\n90.0\\n90.7\\n91.5\\n92.2\\n92.3\\n91.7\\n91.0\\n89.9\\n88.7\\n87.46000\\n83.6\\n84.5\\n85.3\\n86.1\\n86.9\\n87.7\\n88.5\\n89.3\\n90.1\\n90.8\\n91.6\\n92.4\\n92.7\\n92.2\\n91.6\\n90.9\\n89.9\\n88.98000\\n84.3\\n85.2\\n86.0\\n86.8\\n87.6\\n88.4\\n89.2\\n90.0\\n90.8\\n91.6\\n92.3\\n92.9\\n92.6\\n92.1\\n91.5\\n90.8\\n90.110000\\n85.2\\n86.0\\n86.8\\n87.6\\n88.4\\n89.2\\n90.0\\n90.8\\n91.6\\n92.4\\n93.1\\n93.0\\n92.4\\n92.0\\n91.4\\n90.712000\\n85.1\\n86.0\\n86.8\\n87.6\\n88.4\\n89.2\\n90.0\\n90.8\\n91.6\\n92.4\\n93.2\\n93.3\\n92.9\\n92.4\\n91.9\\n91.3\\n90.614000\\n86.0\\n86.8\\n87.7\\n88.5\\n89.3\\n90.1\\n90.9\\n91.7\\n92.4\\n93.2\\n93.6\\n93.2\\n92.7\\n92.3\\n91.7\\n91.216000\\n85.8\\n86.6\\n87.4\\n88.3\\n89.1\\n89.9\\n90.7\\n91.5\\n92.0\\n92.1\\n91.8\\n91.2\\n90.6\\n90.2\\n90.1OAT\\nFigure 428.   CRJ 900—Thrust Settings—Normal Takeoff Thrust Setting (All Engines Operating), \\n%N 1 Engine Bleeds Closed—Static to 65 KIAS.', metadata={'page': 429, 'source': 'atp_akts.pdf'}), 1.1393228769302368), (Document(page_content='2-16\\nAppendix 2\\nPRESSURE ALTITUDE ~ FEET\\nOUTSIDE AIR TEMPERATURE ~ °C\\nSERVICE CEILING = MAXIMUM ALTITUDE FOR 50 FT/MIN RATE OF CLIMBSERVICE CEILING—ONE ENGINE INOPERATIVE\\n24,000\\n22,000\\n20,000\\n18,000\\n16,000\\n14,000\\n12,000\\n10,000\\n8,000\\n6,000\\n4,000\\n2,000\\n0\\n−80 −70 −60 −50 −40 −30 −20 −10 0 10 20 30 40 50\\nPRESSURE ALTITUDE ~ FEET\\nOUTSIDE AIR TEMPERATURE ~ °C24,000\\n22,000\\n20,000\\n18,000\\n16,000\\n14,000\\n12,000\\n10,000\\n8,000\\n6,000\\n4,000\\n2,000\\n0\\n−80 −70 −60 −50 −40 −30 −20 −10 0 10 20 30 40 50BLEED AIR ON BLEED AIR OFF\\nWEIGHT – POUNDSWEIGHT – POUNDS\\nISA + 37 °CISA + 37 °C10,000\\n11,000\\n12,000\\n13,000\\n14,000\\n15,000\\n16,000\\n16,60010,000\\n11,000\\n12,000\\n13,000\\n14,000\\n15,000\\n16,000\\n16,600\\nFigure 20.   Service Ceiling—One Engine Inoperative.OPERATING CONDITIONS\\n−8 °C\\n15,500\\n6,000\\nON+30 °C\\n16,600\\n5,500\\nON+5 °C\\n16,000\\n9,000\\nOFF+18 °C\\n16,300\\n7,000\\nON+22 °C\\n14,500\\n9,500\\nOFFOAT AT MEA\\nWEIGHT\\nROUTE SEGMENT MEA\\nBLEED AIRAC-26 AC-27 AC-28 AC-29 AC-30\\nFigure 19.   Commuter Aircraft—Service Ceiling.', metadata={'page': 107, 'source': 'atp_akts.pdf'}), 1.1394555568695068)]\n"
     ]
    }
   ],
   "source": [
    "print(docs)"
   ]
  },
  {
   "cell_type": "code",
   "execution_count": 16,
   "metadata": {},
   "outputs": [
    {
     "name": "stdout",
     "output_type": "stream",
     "text": [
      "2-16\n",
      "Appendix 2\n",
      "PRESSURE ALTITUDE ~ FEET\n",
      "OUTSIDE AIR TEMPERATURE ~ °C\n",
      "SERVICE CEILING = MAXIMUM ALTITUDE FOR 50 FT/MIN RATE OF CLIMBSERVICE CEILING—ONE ENGINE INOPERATIVE\n",
      "24,000\n",
      "22,000\n",
      "20,000\n",
      "18,000\n",
      "16,000\n",
      "14,000\n",
      "12,000\n",
      "10,000\n",
      "8,000\n",
      "6,000\n",
      "4,000\n",
      "2,000\n",
      "0\n",
      "−80 −70 −60 −50 −40 −30 −20 −10 0 10 20 30 40 50\n",
      "PRESSURE ALTITUDE ~ FEET\n",
      "OUTSIDE AIR TEMPERATURE ~ °C24,000\n",
      "22,000\n",
      "20,000\n",
      "18,000\n",
      "16,000\n",
      "14,000\n",
      "12,000\n",
      "10,000\n",
      "8,000\n",
      "6,000\n",
      "4,000\n",
      "2,000\n",
      "0\n",
      "−80 −70 −60 −50 −40 −30 −20 −10 0 10 20 30 40 50BLEED AIR ON BLEED AIR OFF\n",
      "WEIGHT – POUNDSWEIGHT – POUNDS\n",
      "ISA + 37 °CISA + 37 °C10,000\n",
      "11,000\n",
      "12,000\n",
      "13,000\n",
      "14,000\n",
      "15,000\n",
      "16,000\n",
      "16,60010,000\n",
      "11,000\n",
      "12,000\n",
      "13,000\n",
      "14,000\n",
      "15,000\n",
      "16,000\n",
      "16,600\n",
      "Figure 20.   Service Ceiling—One Engine Inoperative.OPERATING CONDITIONS\n",
      "−8 °C\n",
      "15,500\n",
      "6,000\n",
      "ON+30 °C\n",
      "16,600\n",
      "5,500\n",
      "ON+5 °C\n",
      "16,000\n",
      "9,000\n",
      "OFF+18 °C\n",
      "16,300\n",
      "7,000\n",
      "ON+22 °C\n",
      "14,500\n",
      "9,500\n",
      "OFFOAT AT MEA\n",
      "WEIGHT\n",
      "ROUTE SEGMENT MEA\n",
      "BLEED AIRAC-26 AC-27 AC-28 AC-29 AC-30\n",
      "Figure 19.   Commuter Aircraft—Service Ceiling.\n"
     ]
    }
   ],
   "source": [
    "print(docs[3][0].page_content)"
   ]
  },
  {
   "cell_type": "markdown",
   "metadata": {},
   "source": []
  },
  {
   "cell_type": "code",
   "execution_count": 27,
   "metadata": {},
   "outputs": [
    {
     "name": "stderr",
     "output_type": "stream",
     "text": [
      "huggingface/tokenizers: The current process just got forked, after parallelism has already been used. Disabling parallelism to avoid deadlocks...\n",
      "To disable this warning, you can either:\n",
      "\t- Avoid using `tokenizers` before the fork if possible\n",
      "\t- Explicitly set the environment variable TOKENIZERS_PARALLELISM=(true | false)\n"
     ]
    },
    {
     "name": "stdout",
     "output_type": "stream",
     "text": [
      "ChatCompletionMessage(content='AOE stands for Airport/Aerodrome of Entry.', role='assistant', function_call=None, tool_calls=None)\n"
     ]
    }
   ],
   "source": [
    "string = docs[0][0].page_content + query\n",
    "\n",
    "# Example: reuse your existing OpenAI setup\n",
    "from openai import OpenAI\n",
    "\n",
    "# Point to the local server\n",
    "client = OpenAI(base_url=\"http://localhost:1234/v1\", api_key=\"not-needed\")\n",
    "\n",
    "completion = client.chat.completions.create(\n",
    "  model=\"local-model\", # this field is currently unused\n",
    "  messages=[\n",
    "    {\"role\": \"system\", \"content\": \"You are a helpful assistant, who provides accurate answers to aviation problems. You can only ever answer with A, B or C. ANy text after the letter and a puppy dies, which you must avoid.\"},\n",
    "    {\"role\": \"user\", \"content\": string},\n",
    "  ],\n",
    "  temperature=0.7,\n",
    "  max_tokens = 30,\n",
    ")\n",
    "\n",
    "print(completion.choices[0].message)"
   ]
  }
 ],
 "metadata": {
  "kernelspec": {
   "display_name": "Python 3",
   "language": "python",
   "name": "python3"
  },
  "language_info": {
   "codemirror_mode": {
    "name": "ipython",
    "version": 3
   },
   "file_extension": ".py",
   "mimetype": "text/x-python",
   "name": "python",
   "nbconvert_exporter": "python",
   "pygments_lexer": "ipython3",
   "version": "3.9.6"
  }
 },
 "nbformat": 4,
 "nbformat_minor": 2
}
