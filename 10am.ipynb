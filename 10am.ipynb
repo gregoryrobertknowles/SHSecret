{
 "cells": [
  {
   "cell_type": "code",
   "execution_count": 1,
   "metadata": {},
   "outputs": [
    {
     "name": "stderr",
     "output_type": "stream",
     "text": [
      "/Users/gregknowles/Library/Python/3.9/lib/python/site-packages/urllib3/__init__.py:34: NotOpenSSLWarning: urllib3 v2.0 only supports OpenSSL 1.1.1+, currently the 'ssl' module is compiled with 'LibreSSL 2.8.3'. See: https://github.com/urllib3/urllib3/issues/3020\n",
      "  warnings.warn(\n"
     ]
    }
   ],
   "source": [
    "import pandas as pd\n",
    "from langchain_community.document_loaders import PyPDFLoader\n",
    "from openai import OpenAI\n",
    "from langchain_community.vectorstores import Chroma\n",
    "from langchain_community.embeddings import HuggingFaceEmbeddings\n",
    "from langchain.text_splitter import CharacterTextSplitter\n",
    "import re\n"
   ]
  },
  {
   "cell_type": "code",
   "execution_count": 2,
   "metadata": {},
   "outputs": [],
   "source": [
    "\n",
    "# Read the data from the CSV file\n",
    "data = pd.read_csv('Aviation Quiz.csv')"
   ]
  },
  {
   "cell_type": "code",
   "execution_count": 3,
   "metadata": {},
   "outputs": [],
   "source": [
    "from langchain_community.document_loaders import PyMuPDFLoader\n",
    "\n",
    "\n",
    "loader = PyMuPDFLoader(\"14 CFR 23.1457.pdf\") # FAA-CT-8080-7D manual\n",
    "pages = loader.load()\n",
    "\n",
    "loader2 = PyPDFLoader(\"atp_akts.pdf\") \n",
    "pages2 = loader2.load()\n",
    "\n",
    "loader3 = PyPDFLoader(\"annexes_booklet_en.pdf\")\n",
    "pages3 = loader3.load()\n",
    "\n",
    "pages.extend(pages2) # combine the two lists    \n",
    "\n",
    "pages.extend(pages3) # combine the three lists"
   ]
  },
  {
   "cell_type": "code",
   "execution_count": 12,
   "metadata": {},
   "outputs": [
    {
     "name": "stdout",
     "output_type": "stream",
     "text": [
      "bert_load_from_file: gguf version     = 2\n",
      "bert_load_from_file: gguf alignment   = 32\n",
      "bert_load_from_file: gguf data offset = 695552\n",
      "bert_load_from_file: model name           = BERT\n",
      "bert_load_from_file: model architecture   = bert\n",
      "bert_load_from_file: model file type      = 1\n",
      "bert_load_from_file: bert tokenizer vocab = 30522\n"
     ]
    }
   ],
   "source": [
    "from langchain_community.embeddings import GPT4AllEmbeddings\n",
    "\n",
    "hf = GPT4AllEmbeddings()\n",
    "\n",
    "\"\"\"model_name = \"all-MiniLM-L6-v2\" #this is under 600d\n",
    "model_kwargs = {'device': 'cpu'}\n",
    "encode_kwargs = {'normalize_embeddings': False}\n",
    "hf = HuggingFaceEmbeddings(\n",
    "    model_name=model_name,\n",
    "    model_kwargs=model_kwargs,\n",
    "    encode_kwargs=encode_kwargs\n",
    ")\"\"\"\n",
    "\n",
    "embeddings = hf\n",
    "\n",
    "text_splitter = CharacterTextSplitter(chunk_size=1500, chunk_overlap=100)\n",
    "\n",
    "chunked_documents = text_splitter.split_documents(pages)\n",
    "\n",
    "\n",
    "#vectordb = Chroma.from_documents(\n",
    "        #documents=chunked_documents,\n",
    "       # \n",
    "   # )\n",
    "\n",
    "from langchain_community.vectorstores import FAISS\n",
    "faissdb = FAISS.from_documents(chunked_documents, embeddings)"
   ]
  },
  {
   "cell_type": "code",
   "execution_count": 5,
   "metadata": {},
   "outputs": [],
   "source": [
    "from sklearn.metrics.pairwise import cosine_similarity\n",
    "import numpy as np\n",
    "\n",
    "def find_most_similar_option(reply_embedding, a, b, c, embeddings):\n",
    "    # Convert embeddings to NumPy arrays\n",
    "    reply_embedding_array = np.array(reply_embedding)\n",
    "    option_a_embedding_array = np.array(embeddings.embed_query(a))\n",
    "    option_b_embedding_array = np.array(embeddings.embed_query(b))\n",
    "    option_c_embedding_array = np.array(embeddings.embed_query(c))\n",
    "\n",
    "    # Ensure embeddings are 2D arrays for cosine_similarity\n",
    "    reply_embedding_2d = reply_embedding_array.reshape(1, -1)\n",
    "    option_a_embedding_2d = option_a_embedding_array.reshape(1, -1)\n",
    "    option_b_embedding_2d = option_b_embedding_array.reshape(1, -1)\n",
    "    option_c_embedding_2d = option_c_embedding_array.reshape(1, -1)\n",
    "\n",
    "    # Calculate similarity scores\n",
    "    similarity_a = cosine_similarity(reply_embedding_2d, option_a_embedding_2d)[0][0]\n",
    "    similarity_b = cosine_similarity(reply_embedding_2d, option_b_embedding_2d)[0][0]\n",
    "    similarity_c = cosine_similarity(reply_embedding_2d, option_c_embedding_2d)[0][0]\n",
    "\n",
    "    # Determine the most similar option\n",
    "    similarities = {'A': similarity_a, 'B': similarity_b, 'C': similarity_c}\n",
    "    most_similar_option = max(similarities, key=similarities.get)\n",
    "\n",
    "    return most_similar_option"
   ]
  },
  {
   "cell_type": "code",
   "execution_count": 10,
   "metadata": {},
   "outputs": [
    {
     "name": "stdout",
     "output_type": "stream",
     "text": [
      "The correct answer is (B). According to 14 CFR 23.1457(e)(2), the cockpit voice recorder must remain powered for\n",
      "The cockpit voice recorder and flight data recorder must be installed together in the same container.\n",
      "The cockpit voice recorder must remain powered for at least 20 minutes after crash impact.\n",
      "The recorder container must have an underwater locating device if required by the operating rules\n",
      "B\n"
     ]
    }
   ],
   "source": [
    "questionNumber = 2\n",
    "\n",
    "query = data.iloc[questionNumber, 1]\n",
    "query_embedding = embeddings.embed_query(query)\n",
    "\n",
    "retriever = faissdb.as_retriever()\n",
    "docs2 = retriever.get_relevant_documents(query)\n",
    "\n",
    "string = docs2[0].page_content +  docs2[1].page_content + query\n",
    "\n",
    "# Point to the local server\n",
    "client = OpenAI(base_url=\"http://localhost:1234/v1\", api_key=\"not-needed\")\n",
    "\n",
    "completion = client.chat.completions.create(\n",
    "  model=\"local-model\", # this field is currently unused\n",
    "  messages=[\n",
    "    {\"role\": \"system\", \"content\": \"You are a helpful assistant, who provides accurate answers to aviation problems. You can only ever answer with A, B or C. ANy text after the letter and a puppy dies, which you must avoid\"},\n",
    "    {\"role\": \"user\", \"content\": string},\n",
    "  ],\n",
    "  temperature=0.33,\n",
    "  max_tokens = 40,\n",
    ")\n",
    "\n",
    "print(completion.choices[0].message.content)\n",
    "\n",
    "reply = completion.choices[0].message.content\n",
    "reply_embedding = embeddings.embed_query(reply)\n",
    "\n",
    "import re\n",
    "\n",
    "\n",
    "def extract_options(input_string):\n",
    "    # Regular expression to find the options\n",
    "    matches = re.findall(r'([ABC])\\.\\s(.*?)$', input_string, re.M)\n",
    "    options = {letter: text for letter, text in matches}\n",
    "    \n",
    "    # Assign to individual strings\n",
    "    option_a = options.get('A', 'Option A not found')\n",
    "    option_b = options.get('B', 'Option B not found')\n",
    "    option_c = options.get('C', 'Option C not found')\n",
    "    \n",
    "    return option_a, option_b, option_c\n",
    "\n",
    "a, b, c = extract_options(data.iloc[questionNumber, 1])\n",
    "\n",
    "print(a)\n",
    "print(b)\n",
    "print(c)\n",
    "\n",
    "print(find_most_similar_option(reply_embedding, a, b, c, embeddings))"
   ]
  },
  {
   "cell_type": "code",
   "execution_count": 8,
   "metadata": {},
   "outputs": [
    {
     "name": "stdout",
     "output_type": "stream",
     "text": [
      "Which statement is true according to 14 CFR 23.1457?\n",
      "Options:\n",
      "A. The cockpit voice recorder and flight data recorder must be installed together in the same container.\n",
      "B. The cockpit voice recorder must remain powered for at least 20 minutes after crash impact.\n",
      "C. The recorder container must have an underwater locating device if required by the operating rules\n"
     ]
    }
   ],
   "source": [
    "print(data.iloc[questionNumber, 1])"
   ]
  },
  {
   "cell_type": "code",
   "execution_count": 11,
   "metadata": {},
   "outputs": [
    {
     "name": "stdout",
     "output_type": "stream",
     "text": [
      "Title 14 —Aeronautics and Space\n",
      "Chapter I —Federal Aviation Administration, Department of Transportation\n",
      "Subchapter C —Aircraft\n",
      "Part 23 —Airworthiness Standards: Normal Category Airplanes\n",
      "Authority: 49 U.S.C. 106(f), 106(g), 40113, 44701–44702, 44704, Pub. L. 113–53, 127 Stat. 584 (49 U.S.C. 44704) note.\n",
      "Source: Doc. No. FAA–2015–1621, Amdt. 23–64, 81 FR 96689, Dec. 30, 2016, unless otherwise noted.\n",
      "§ 23.1457 Cockpit voice recorders.\n",
      "This content is from the eCFR and is authoritative but unofficial.\n",
      "(a)\n",
      "Each cockpit voice recorder required by the operating rules of this chapter must be approved and must be\n",
      "installed so that it will record the following:\n",
      "(1)\n",
      "Voice communications transmitted from or received in the airplane by radio.\n",
      "(2)\n",
      "Voice communications of flightcrew members on the flight deck.\n",
      "(3)\n",
      "Voice communications of flightcrew members on the flight deck, using the airplane's interphone\n",
      "system.\n",
      "(4)\n",
      "Voice or audio signals identifying navigation or approach aids introduced into a headset or speaker.\n",
      "(5)\n",
      "Voice communications of flightcrew members using the passenger loudspeaker system, if there is\n",
      "such a system and if the fourth channel is available in accordance with the requirements of\n",
      "paragraph (c)(4)(ii) of this section.\n",
      "(6)\n",
      "If datalink communication equipment is installed, all datalink communications, using an approved\n",
      "data message set. Datalink messages must be recorded as the output signal from the\n",
      "communications unit that translates the signal into usable data.\n",
      "(b)\n",
      "The recording requirements of paragraph (a)(2) of this section must be met by installing a cockpit-\n",
      "mounted area microphone, located in the best position for recording voice communications originating at\n",
      "the first and second pilot stations and voice communications of other crewmembers on the flight deck\n",
      "when directed to those stations. The microphone must be so located and, if necessary, the preamplifiers\n",
      "and filters of the recorder must be so adjusted or supplemented, so that the intelligibility of the recorded\n",
      "communications is as high as practicable when recorded under flight cockpit noise conditions and played\n",
      "back. Repeated aural or visual playback of the record may be used in evaluating intelligibility.\n",
      "(c)\n",
      "Each cockpit voice recorder must be installed so that the part of the communication or audio signals\n",
      "specified in paragraph (a) of this section obtained from each of the following sources is recorded on a\n",
      "separate channel:\n",
      "(1)\n",
      "For the first channel, from each boom, mask, or handheld microphone, headset, or speaker used at\n",
      "the first pilot station.\n",
      "(2)\n",
      "For the second channel from each boom, mask, or handheld microphone, headset, or speaker used\n",
      "at the second pilot station.\n",
      "(3)\n",
      "For the third channel—from the cockpit-mounted area microphone.\n",
      "(4)\n",
      "For the fourth channel from:\n",
      "14 CFR 23.1457 (up to date as of 2/07/2024)\n",
      "Cockpit voice recorders.\n",
      "14 CFR 23.1457 (Feb. 7, 2024)\n",
      "14 CFR 23.1457(c)(4) (enhanced display)\n",
      "page 1 of 3\n"
     ]
    }
   ],
   "source": [
    "print(docs2[2].page_content)"
   ]
  },
  {
   "cell_type": "code",
   "execution_count": 16,
   "metadata": {},
   "outputs": [
    {
     "name": "stdout",
     "output_type": "stream",
     "text": [
      "The correct answer is B. Area microphone. According to 14 CFR 23.1457(a)(2), each cockpit voice recorder must be\n"
     ]
    },
    {
     "name": "stderr",
     "output_type": "stream",
     "text": [
      "/var/folders/z0/d1h9rybn0mb5s1tw6bl5ndh80000gn/T/ipykernel_1544/1535557460.py:52: FutureWarning: Setting an item of incompatible dtype is deprecated and will raise in a future error of pandas. Value 'B' has dtype incompatible with float64, please explicitly cast to a compatible dtype first.\n",
      "  data.at[index, 'y'] = most_similar_option\n"
     ]
    },
    {
     "name": "stdout",
     "output_type": "stream",
     "text": [
      "The required color of the recorder container is bright orange or bright yellow, as specified in 14 CFR 23.1457(g)(1). This is to\n",
      "The correct answer is (B). According to 14 CFR 23.1457(e)(2), the cockpit voice recorder must remain powered for\n",
      "C. All of the above. According to 14 CFR 23.1457, each cockpit voice recorder must be installed so that the part of the\n",
      "The answer is B. 72 hours, commencing within 10 days after date of injury. According to the National Transportation Safety Board (NTSB), a serious injury is\n",
      "A. 14 CFR part 91.\n",
      "The Federal Aviation Administration (FAA) publishes the Aeronautical Information Publication (AIP) which includes amend\n",
      "The maximum distance that a departure alternate airport may be located from the departure airport is not more than 2 hours at normal cruise speed in still air with one engine inoperative,\n"
     ]
    }
   ],
   "source": [
    "#for index, row in data.iterrows():\n",
    "\n",
    "for index, row in data.iterrows():\n",
    "    questionNumber = index\n",
    "\n",
    "    query = data.iloc[questionNumber, 1]\n",
    "    query_embedding = embeddings.embed_query(query)\n",
    "\n",
    "    retriever = faissdb.as_retriever()\n",
    "    docs2 = retriever.get_relevant_documents(query)\n",
    "\n",
    "    string = docs2[0].page_content +  docs2[1].page_content + query\n",
    "\n",
    "    # Point to the local server\n",
    "    client = OpenAI(base_url=\"http://localhost:1234/v1\", api_key=\"not-needed\")\n",
    "\n",
    "    completion = client.chat.completions.create(\n",
    "    model=\"local-model\", # this field is currently unused\n",
    "    messages=[\n",
    "      {\"role\": \"system\", \"content\": \"You are a helpful assistant, who provides accurate answers to aviation problems. You can only ever answer with A, B or C. ANy text after the letter and a puppy dies, which you must avoid\"},\n",
    "      {\"role\": \"user\", \"content\": string},\n",
    "    ],\n",
    "    temperature=0.33,\n",
    "    max_tokens = 40,\n",
    "    )\n",
    "\n",
    "    print(completion.choices[0].message.content)\n",
    "\n",
    "    reply = completion.choices[0].message.content\n",
    "    reply_embedding = embeddings.embed_query(reply)\n",
    "\n",
    "    import re\n",
    "\n",
    "\n",
    "    def extract_options(input_string):\n",
    "      # Regular expression to find the options\n",
    "      matches = re.findall(r'([ABC])\\.\\s(.*?)$', input_string, re.M)\n",
    "      options = {letter: text for letter, text in matches}\n",
    "    \n",
    "      # Assign to individual strings\n",
    "      option_a = options.get('A', 'Option A not found')\n",
    "      option_b = options.get('B', 'Option B not found')\n",
    "      option_c = options.get('C', 'Option C not found')\n",
    "    \n",
    "      return option_a, option_b, option_c\n",
    "\n",
    "    a, b, c = extract_options(data.iloc[questionNumber, 1]) \n",
    "    \n",
    "    most_similar_option = find_most_similar_option(reply_embedding, a, b, c, embeddings)\n",
    "\n",
    "    # Append the result to the DataFrame\n",
    "    data.at[index, 'y'] = most_similar_option\n",
    "\n",
    "    data.to_csv('Aviation_Quiz_with_Answers.csv', index=False)"
   ]
  }
 ],
 "metadata": {
  "kernelspec": {
   "display_name": "Python 3",
   "language": "python",
   "name": "python3"
  },
  "language_info": {
   "codemirror_mode": {
    "name": "ipython",
    "version": 3
   },
   "file_extension": ".py",
   "mimetype": "text/x-python",
   "name": "python",
   "nbconvert_exporter": "python",
   "pygments_lexer": "ipython3",
   "version": "3.9.6"
  }
 },
 "nbformat": 4,
 "nbformat_minor": 2
}
